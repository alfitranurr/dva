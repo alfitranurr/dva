{
 "cells": [
  {
   "cell_type": "code",
   "execution_count": null,
   "id": "8229ad36",
   "metadata": {},
   "outputs": [],
   "source": [
    "import os\n",
    "import nbformat\n",
    "from nbformat.v4 import new_notebook, new_code_cell\n",
    "\n",
    "# Direktori utama tempat folder-folder berada\n",
    "root_directory = \"./\"  # Ganti dengan path direktori utama jika diperlukan\n",
    "\n",
    "# Fungsi untuk mengonversi file .py ke .ipynb secara rekursif\n",
    "def convert_py_to_ipynb(directory):\n",
    "    for root, dirs, files in os.walk(directory):\n",
    "        for filename in files:\n",
    "            if filename.endswith(\".py\"):\n",
    "                py_file_path = os.path.join(root, filename)\n",
    "                ipynb_file_path = os.path.join(root, filename.replace(\".py\", \".ipynb\"))\n",
    "\n",
    "                # Baca isi file .py\n",
    "                with open(py_file_path, \"r\", encoding=\"utf-8\") as f:\n",
    "                    code = f.read()\n",
    "\n",
    "                # Buat notebook baru\n",
    "                nb = new_notebook()\n",
    "                nb.cells.append(new_code_cell(code))\n",
    "\n",
    "                # Simpan sebagai file .ipynb\n",
    "                with open(ipynb_file_path, \"w\", encoding=\"utf-8\") as f:\n",
    "                    nbformat.write(nb, f)\n",
    "                print(f\"Berhasil mengonversi {py_file_path} menjadi {ipynb_file_path}\")\n",
    "\n",
    "# Jalankan fungsi untuk mengonversi semua file .py di direktori dan subdirektori\n",
    "convert_py_to_ipynb(root_directory)"
   ]
  }
 ],
 "metadata": {},
 "nbformat": 4,
 "nbformat_minor": 5
}
